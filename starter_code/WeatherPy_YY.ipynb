{
 "cells": [
  {
   "cell_type": "markdown",
   "metadata": {
    "scrolled": true
   },
   "source": [
    "## Analysis"
   ]
  },
  {
   "cell_type": "markdown",
   "metadata": {},
   "source": [
    "* \n",
    "* \n",
    "* "
   ]
  },
  {
   "cell_type": "code",
   "execution_count": 1,
   "metadata": {},
   "outputs": [],
   "source": [
    "import matplotlib.pyplot as plt\n",
    "import pandas as pd\n",
    "import numpy as np\n",
    "import requests\n",
    "import time\n",
    "import json\n",
    "\n",
    "import api_keys\n",
    "\n",
    "from citipy import citipy\n",
    "\n",
    "output_data_file = \"output_data/cities.csv\"\n",
    "\n",
    "lat_range = (-90, 90)\n",
    "lng_range = (-180, 180)"
   ]
  },
  {
   "cell_type": "markdown",
   "metadata": {},
   "source": [
    "## Generate Cities List"
   ]
  },
  {
   "cell_type": "code",
   "execution_count": 11,
   "metadata": {},
   "outputs": [],
   "source": [
    "lat_lngs = []\n",
    "cities = []\n",
    "\n",
    "lats = np.random.uniform(low=-90.000, high=90.000, size=15) # 1500\n",
    "lngs = np.random.uniform(low=-180.000, high=180.000, size=15)\n",
    "lat_lngs = zip(lats, lngs)\n",
    "\n",
    "for lat_lng in lat_lngs:\n",
    "    city = citipy.nearest_city(lat_lng[0], lat_lng[1]).city_name\n",
    "    \n",
    "    if city not in cities:\n",
    "        cities.append(city)\n",
    "\n",
    "numCities = len(cities)"
   ]
  },
  {
   "cell_type": "markdown",
   "metadata": {},
   "source": [
    "## Perform API Calls"
   ]
  },
  {
   "cell_type": "code",
   "execution_count": 12,
   "metadata": {},
   "outputs": [],
   "source": [
    "api_key = api_keys.api_key\n",
    "url = \"http://api.openweathermap.org/data/2.5/weather?\"\n",
    "units = \"imperial\""
   ]
  },
  {
   "cell_type": "code",
   "execution_count": 32,
   "metadata": {
    "scrolled": true
   },
   "outputs": [
    {
     "name": "stdout",
     "output_type": "stream",
     "text": [
      "Beginning Data Retrieval\n",
      "--------------------\n",
      "Processing Record 1 of 14 | karaul \n",
      "http://api.openweathermap.org/data/2.5/weather?appid=8d95a48d7f19828d17deaa9704f30971&q=karaul&units=imperial\n",
      "Info not found for city: karaul\n",
      "Processing Record 2 of 14 | albany \n",
      "http://api.openweathermap.org/data/2.5/weather?appid=8d95a48d7f19828d17deaa9704f30971&q=albany&units=imperial\n",
      "Processing Record 3 of 14 | westerland \n",
      "http://api.openweathermap.org/data/2.5/weather?appid=8d95a48d7f19828d17deaa9704f30971&q=westerland&units=imperial\n",
      "Processing Record 4 of 14 | puerto quijarro \n",
      "http://api.openweathermap.org/data/2.5/weather?appid=8d95a48d7f19828d17deaa9704f30971&q=puerto quijarro&units=imperial\n",
      "Processing Record 5 of 14 | charyshskoye \n",
      "http://api.openweathermap.org/data/2.5/weather?appid=8d95a48d7f19828d17deaa9704f30971&q=charyshskoye&units=imperial\n",
      "Processing Record 6 of 14 | rikitea \n",
      "http://api.openweathermap.org/data/2.5/weather?appid=8d95a48d7f19828d17deaa9704f30971&q=rikitea&units=imperial\n",
      "Processing Record 7 of 14 | cidreira \n",
      "http://api.openweathermap.org/data/2.5/weather?appid=8d95a48d7f19828d17deaa9704f30971&q=cidreira&units=imperial\n",
      "Processing Record 8 of 14 | manaus \n",
      "http://api.openweathermap.org/data/2.5/weather?appid=8d95a48d7f19828d17deaa9704f30971&q=manaus&units=imperial\n",
      "Processing Record 9 of 14 | talara \n",
      "http://api.openweathermap.org/data/2.5/weather?appid=8d95a48d7f19828d17deaa9704f30971&q=talara&units=imperial\n",
      "Processing Record 10 of 14 | taolanaro \n",
      "http://api.openweathermap.org/data/2.5/weather?appid=8d95a48d7f19828d17deaa9704f30971&q=taolanaro&units=imperial\n",
      "Info not found for city: taolanaro\n",
      "Processing Record 11 of 14 | norman wells \n",
      "http://api.openweathermap.org/data/2.5/weather?appid=8d95a48d7f19828d17deaa9704f30971&q=norman wells&units=imperial\n",
      "Processing Record 12 of 14 | vaitupu \n",
      "http://api.openweathermap.org/data/2.5/weather?appid=8d95a48d7f19828d17deaa9704f30971&q=vaitupu&units=imperial\n",
      "Info not found for city: vaitupu\n",
      "Processing Record 13 of 14 | vilcun \n",
      "http://api.openweathermap.org/data/2.5/weather?appid=8d95a48d7f19828d17deaa9704f30971&q=vilcun&units=imperial\n",
      "Processing Record 14 of 14 | qasigiannguit \n",
      "http://api.openweathermap.org/data/2.5/weather?appid=8d95a48d7f19828d17deaa9704f30971&q=qasigiannguit&units=imperial\n",
      "Finished Extracting Data\n"
     ]
    }
   ],
   "source": [
    "city_name = []\n",
    "country = []\n",
    "clouds = []\n",
    "date = []\n",
    "humidity = []\n",
    "lat = []\n",
    "lng = []\n",
    "max_temp = []\n",
    "wind = []\n",
    "\n",
    "counter = 1\n",
    "\n",
    "print(f\"Beginning Data Retrieval\")\n",
    "print(\"-\"*20)\n",
    "\n",
    "for city in cities:\n",
    "    query_url = f\"{url}appid={api_key}&q={city}&units={units}\"\n",
    "    weather_response = requests.get(query_url)\n",
    "    weather_json = weather_response.json()\n",
    "    print(f\"Processing Record {counter} of {numCities} | {city} \")\n",
    "    print(str(query_url))\n",
    "    counter = counter + 1\n",
    "    \n",
    "    try: \n",
    "        lng.append(weather_json['coord']['lon'])\n",
    "        lat.append(weather_json['coord']['lat'])\n",
    "        clouds.append(weather_json['clouds']['all'])\n",
    "        date.append(weather_json['dt'])\n",
    "        humidity.append(weather_json['main']['humidity'])\n",
    "        max_temp.append(weather_json['main']['temp_max'])\n",
    "        wind.append(weather_json['wind']['speed'])\n",
    "        country.append(weather_json['sys']['country'])\n",
    "        city_name.append(city)\n",
    "    except KeyError:\n",
    "        print(f\"Info not found for city: {city}\")\n",
    "        \n",
    "print(\"Finished Extracting Data\")"
   ]
  },
  {
   "cell_type": "code",
   "execution_count": 31,
   "metadata": {},
   "outputs": [
    {
     "data": {
      "text/html": [
       "<div>\n",
       "<style scoped>\n",
       "    .dataframe tbody tr th:only-of-type {\n",
       "        vertical-align: middle;\n",
       "    }\n",
       "\n",
       "    .dataframe tbody tr th {\n",
       "        vertical-align: top;\n",
       "    }\n",
       "\n",
       "    .dataframe thead th {\n",
       "        text-align: right;\n",
       "    }\n",
       "</style>\n",
       "<table border=\"1\" class=\"dataframe\">\n",
       "  <thead>\n",
       "    <tr style=\"text-align: right;\">\n",
       "      <th></th>\n",
       "      <th>city_name</th>\n",
       "      <th>country_name</th>\n",
       "      <th>longitude</th>\n",
       "      <th>latitude</th>\n",
       "      <th>clouds</th>\n",
       "      <th>date</th>\n",
       "      <th>humidity</th>\n",
       "      <th>max temp</th>\n",
       "      <th>wind</th>\n",
       "    </tr>\n",
       "  </thead>\n",
       "  <tbody>\n",
       "    <tr>\n",
       "      <th>0</th>\n",
       "      <td>albany</td>\n",
       "      <td>US</td>\n",
       "      <td>-73.75</td>\n",
       "      <td>42.65</td>\n",
       "      <td>75</td>\n",
       "      <td>1534701240</td>\n",
       "      <td>42</td>\n",
       "      <td>80.60</td>\n",
       "      <td>6.93</td>\n",
       "    </tr>\n",
       "    <tr>\n",
       "      <th>1</th>\n",
       "      <td>westerland</td>\n",
       "      <td>NL</td>\n",
       "      <td>4.93</td>\n",
       "      <td>52.89</td>\n",
       "      <td>90</td>\n",
       "      <td>1534703760</td>\n",
       "      <td>88</td>\n",
       "      <td>68.00</td>\n",
       "      <td>18.34</td>\n",
       "    </tr>\n",
       "    <tr>\n",
       "      <th>2</th>\n",
       "      <td>puerto quijarro</td>\n",
       "      <td>BO</td>\n",
       "      <td>-57.72</td>\n",
       "      <td>-19.00</td>\n",
       "      <td>0</td>\n",
       "      <td>1534701600</td>\n",
       "      <td>33</td>\n",
       "      <td>91.40</td>\n",
       "      <td>5.82</td>\n",
       "    </tr>\n",
       "    <tr>\n",
       "      <th>3</th>\n",
       "      <td>charyshskoye</td>\n",
       "      <td>RU</td>\n",
       "      <td>83.56</td>\n",
       "      <td>51.40</td>\n",
       "      <td>68</td>\n",
       "      <td>1534704458</td>\n",
       "      <td>88</td>\n",
       "      <td>61.69</td>\n",
       "      <td>4.72</td>\n",
       "    </tr>\n",
       "    <tr>\n",
       "      <th>4</th>\n",
       "      <td>rikitea</td>\n",
       "      <td>PF</td>\n",
       "      <td>-134.97</td>\n",
       "      <td>-23.12</td>\n",
       "      <td>8</td>\n",
       "      <td>1534705040</td>\n",
       "      <td>100</td>\n",
       "      <td>70.51</td>\n",
       "      <td>3.94</td>\n",
       "    </tr>\n",
       "  </tbody>\n",
       "</table>\n",
       "</div>"
      ],
      "text/plain": [
       "         city_name country_name  longitude  latitude  clouds        date  \\\n",
       "0           albany           US     -73.75     42.65      75  1534701240   \n",
       "1       westerland           NL       4.93     52.89      90  1534703760   \n",
       "2  puerto quijarro           BO     -57.72    -19.00       0  1534701600   \n",
       "3     charyshskoye           RU      83.56     51.40      68  1534704458   \n",
       "4          rikitea           PF    -134.97    -23.12       8  1534705040   \n",
       "\n",
       "   humidity  max temp   wind  \n",
       "0        42     80.60   6.93  \n",
       "1        88     68.00  18.34  \n",
       "2        33     91.40   5.82  \n",
       "3        88     61.69   4.72  \n",
       "4       100     70.51   3.94  "
      ]
     },
     "execution_count": 31,
     "metadata": {},
     "output_type": "execute_result"
    }
   ],
   "source": [
    "city_weather_df = pd.DataFrame({ \n",
    "    \"city_name\": city_name,\n",
    "    \"country_name\": country,\n",
    "    \"longitude\": lng,\n",
    "    \"latitude\": lat,\n",
    "    \"clouds\": clouds,\n",
    "    \"date\": date,\n",
    "    \"humidity\": humidity,\n",
    "    \"max temp\": max_temp,\n",
    "    \"wind\": wind\n",
    "})\n",
    "city_weather_df.head()"
   ]
  },
  {
   "cell_type": "markdown",
   "metadata": {},
   "source": [
    "### Save both a CSV of all data retrieved and png images for each scatter plot."
   ]
  },
  {
   "cell_type": "code",
   "execution_count": null,
   "metadata": {},
   "outputs": [],
   "source": [
    "city_weather_df.to_csv(\"CSV/city_weather.csv\")"
   ]
  },
  {
   "cell_type": "markdown",
   "metadata": {},
   "source": [
    "## Scatter Plots"
   ]
  },
  {
   "cell_type": "code",
   "execution_count": 34,
   "metadata": {},
   "outputs": [],
   "source": [
    "plot_date = time.strftime(\"%m/%d/%Y\")"
   ]
  },
  {
   "cell_type": "markdown",
   "metadata": {},
   "source": [
    "### Temperature (F) vs. Latitude"
   ]
  },
  {
   "cell_type": "code",
   "execution_count": null,
   "metadata": {},
   "outputs": [],
   "source": [
    "latitude = city_weather_df['latitude']\n",
    "temperature = city_weather_df['latitude']\n",
    "plt.scatter(latitude, temperature, edgecolor=\"black\", linewidths=1, marker=\"o\", alpha=0.38, grid=True)\n",
    "\n",
    "plt.title(\"Temperature (F) vs. Latitude\" + plot_date)\n",
    "plt.ylabel(\"Max Temperature (F)\")\n",
    "plt.xlabel(\"Latitude\")\n",
    "\n",
    "plt.savefig(\"Figures/plot_001_tempVSlat.png\")\n",
    "\n",
    "plt.show()"
   ]
  },
  {
   "cell_type": "markdown",
   "metadata": {},
   "source": [
    "### Humidity (%) vs. Latitude"
   ]
  },
  {
   "cell_type": "code",
   "execution_count": null,
   "metadata": {},
   "outputs": [],
   "source": []
  },
  {
   "cell_type": "markdown",
   "metadata": {},
   "source": [
    "### Cloudiness (%) vs. Latitude"
   ]
  },
  {
   "cell_type": "code",
   "execution_count": null,
   "metadata": {},
   "outputs": [],
   "source": []
  },
  {
   "cell_type": "markdown",
   "metadata": {},
   "source": [
    "### Wind Speed (mph) vs. Latitude"
   ]
  },
  {
   "cell_type": "code",
   "execution_count": null,
   "metadata": {},
   "outputs": [],
   "source": []
  },
  {
   "cell_type": "markdown",
   "metadata": {},
   "source": [
    "## Hints"
   ]
  },
  {
   "cell_type": "markdown",
   "metadata": {},
   "source": [
    "* You may want to start this assignment by refreshing yourself on the geographic coordinate system.\n",
    "* Next, spend the requisite time necessary to study the OpenWeatherMap API. Based on your initial study, you should be able to answer basic questions about the API: Where do you request the API key? Which Weather API in particular will you need? What URL endpoints does it expect? What JSON structure does it respond with? Before you write a line of code, you should be aiming to have a crystal clear understanding of your intended outcome.\n",
    "* A starter code for Citipy has been provided. However, if you're craving an extra challenge, push yourself to learn how it works: citipy Python library. Before you try to incorporate the library into your analysis, start by creating simple test cases outside your main script to confirm that you are using it correctly. Too often, when introduced to a new library, students get bogged down by the most minor of errors -- spending hours investigating their entire code -- when, in fact, a simple and focused test would have shown their basic utilization of the library was wrong from the start. Don't let this be you!\n",
    "* Part of our expectation in this challenge is that you will use critical thinking skills to understand how and why we're recommending the tools we are. What is Citipy for? Why would you use it in conjunction with the OpenWeatherMap API? How would you do so?\n",
    "* In building your script, pay attention to the cities you are using in your query pool. Are you getting coverage of the full gamut of latitudes and longitudes? Or are you simply choosing 500 cities concentrated in one region of the world? Even if you were a geographic genius, simply rattling 500 cities based on your human selection would create a biased dataset. Be thinking of how you should counter this. (Hint: Consider the full range of latitudes).\n",
    "* Lastly, remember -- this is a challenging activity. Push yourself! If you complete this task, then you can safely say that you've gained a strong mastery of the core foundations of data analytics and it will only go better from here. Good luck!"
   ]
  },
  {
   "cell_type": "code",
   "execution_count": null,
   "metadata": {},
   "outputs": [],
   "source": []
  }
 ],
 "metadata": {
  "anaconda-cloud": {},
  "kernelspec": {
   "display_name": "Python 3",
   "language": "python",
   "name": "python3"
  },
  "language_info": {
   "codemirror_mode": {
    "name": "ipython",
    "version": 3
   },
   "file_extension": ".py",
   "mimetype": "text/x-python",
   "name": "python",
   "nbconvert_exporter": "python",
   "pygments_lexer": "ipython3",
   "version": "3.6.5"
  }
 },
 "nbformat": 4,
 "nbformat_minor": 1
}
